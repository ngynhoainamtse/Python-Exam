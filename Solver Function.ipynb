{
 "cells": [
  {
   "cell_type": "code",
   "execution_count": 1,
   "metadata": {},
   "outputs": [],
   "source": [
    "#Importing libraries\n",
    "import numpy as np \n",
    "from scipy.spatial import distance"
   ]
  },
  {
   "cell_type": "code",
   "execution_count": 2,
   "metadata": {},
   "outputs": [],
   "source": [
    "#Defining the class with the solver function\n",
    "class TSPSolve:\n",
    "    def solve(self, points, metric='euclidean'):\n",
    "        nrow = np.shape(points)[0]\n",
    "        dist = distance.cdist(points, points, metric)\n",
    "        np.fill_diagonal(dist, np.inf)\n",
    "        solution = [0]\n",
    "        unvisited = list(range(1, nrow))\n",
    "        for count in range(nrow-1):\n",
    "            i = solution[-1]\n",
    "            k = min(unvisited, key=lambda x: dist[i][x])\n",
    "            solution.append(k)\n",
    "            unvisited.remove(k)\n",
    "        return solution"
   ]
  },
  {
   "cell_type": "code",
   "execution_count": 3,
   "metadata": {},
   "outputs": [
    {
     "name": "stdout",
     "output_type": "stream",
     "text": [
      "[0, 67, 14, 73, 87, 61, 20, 84, 97, 92, 9, 45, 26, 82, 57, 22, 23, 12, 51, 40, 58, 69, 53, 18, 89, 81, 72, 29, 37, 41, 10, 62, 52, 66, 94, 83, 27, 16, 15, 5, 60, 25, 30, 80, 19, 95, 1, 77, 3, 11, 91, 54, 64, 31, 55, 46, 8, 76, 86, 28, 34, 71, 39, 21, 7, 68, 88, 32, 93, 48, 50, 2, 47, 98, 70, 78, 13, 24, 63, 38, 49, 43, 56, 74, 65, 35, 75, 42, 85, 79, 99, 6, 36, 4, 44, 59, 17, 33, 90, 96]\n"
     ]
    }
   ],
   "source": [
    "#testing the function\n",
    "points = np.random.rand(100, 2)\n",
    "tsp_solver = TSPSolve() \n",
    "print(tsp_solver.solve(points)) "
   ]
  },
  {
   "cell_type": "code",
   "execution_count": null,
   "metadata": {},
   "outputs": [],
   "source": []
  }
 ],
 "metadata": {
  "kernelspec": {
   "display_name": "Python 3",
   "language": "python",
   "name": "python3"
  },
  "language_info": {
   "codemirror_mode": {
    "name": "ipython",
    "version": 3
   },
   "file_extension": ".py",
   "mimetype": "text/x-python",
   "name": "python",
   "nbconvert_exporter": "python",
   "pygments_lexer": "ipython3",
   "version": "3.8.3"
  }
 },
 "nbformat": 4,
 "nbformat_minor": 4
}
