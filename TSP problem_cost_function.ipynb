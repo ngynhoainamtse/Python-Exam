{
 "cells": [
  {
   "cell_type": "markdown",
   "id": "410c1b1d",
   "metadata": {},
   "source": [
    "# TSP problem"
   ]
  },
  {
   "cell_type": "code",
   "execution_count": 17,
   "id": "8eca9f55",
   "metadata": {},
   "outputs": [],
   "source": [
    "import numpy as np\n",
    "import scipy.spatial.distance as spy"
   ]
  },
  {
   "cell_type": "code",
   "execution_count": 71,
   "id": "a41df3ff",
   "metadata": {},
   "outputs": [],
   "source": [
    "X = np.array([[1.0, 2.0],\n",
    "[4.0, 5.0],[3,6],[1,1]])"
   ]
  },
  {
   "cell_type": "code",
   "execution_count": 80,
   "id": "a87b4802",
   "metadata": {},
   "outputs": [
    {
     "data": {
      "text/plain": [
       "array([[1., 2.],\n",
       "       [4., 5.],\n",
       "       [3., 6.],\n",
       "       [1., 1.]])"
      ]
     },
     "execution_count": 80,
     "metadata": {},
     "output_type": "execute_result"
    }
   ],
   "source": [
    "X"
   ]
  },
  {
   "cell_type": "raw",
   "id": "d80de0f8",
   "metadata": {},
   "source": [
    "We have a solution, 3,1,2 for example:"
   ]
  },
  {
   "cell_type": "code",
   "execution_count": 81,
   "id": "dcadd464",
   "metadata": {},
   "outputs": [],
   "source": [
    "Solution = np.array([4,2,1,3])"
   ]
  },
  {
   "cell_type": "code",
   "execution_count": 74,
   "id": "eee69633",
   "metadata": {},
   "outputs": [
    {
     "data": {
      "text/plain": [
       "array([4, 2, 1, 3])"
      ]
     },
     "execution_count": 74,
     "metadata": {},
     "output_type": "execute_result"
    }
   ],
   "source": [
    "Solution\n"
   ]
  },
  {
   "cell_type": "raw",
   "id": "9f3e2538",
   "metadata": {},
   "source": [
    "What is the cost ?\n"
   ]
  },
  {
   "cell_type": "code",
   "execution_count": 76,
   "id": "90800eab",
   "metadata": {},
   "outputs": [],
   "source": [
    "Dist=spy.cdist(X,X)"
   ]
  },
  {
   "cell_type": "code",
   "execution_count": 77,
   "id": "fbfac72e",
   "metadata": {},
   "outputs": [
    {
     "data": {
      "text/plain": [
       "array([[0.        , 4.24264069, 4.47213595, 1.        ],\n",
       "       [4.24264069, 0.        , 1.41421356, 5.        ],\n",
       "       [4.47213595, 1.41421356, 0.        , 5.38516481],\n",
       "       [1.        , 5.        , 5.38516481, 0.        ]])"
      ]
     },
     "execution_count": 77,
     "metadata": {},
     "output_type": "execute_result"
    }
   ],
   "source": [
    "Dist"
   ]
  },
  {
   "cell_type": "code",
   "execution_count": 83,
   "id": "7c53dbde",
   "metadata": {},
   "outputs": [],
   "source": [
    "def cost_function(X,Sol):\n",
    "    cost=[]\n",
    "    dist=spy.cdist(X,X)\n",
    "    for i in range(len(Sol)-1):\n",
    "        index=sol[i:i+2]\n",
    "        c=dist[index[0]-1,index[1]-1]\n",
    "        cost.append(c)\n",
    "    # Close the trip\n",
    "    index=sol[0:len(Sol)]\n",
    "    \n",
    "\n",
    "    return cost\n",
    "    "
   ]
  },
  {
   "cell_type": "code",
   "execution_count": 84,
   "id": "cea5ec22",
   "metadata": {},
   "outputs": [
    {
     "data": {
      "text/plain": [
       "[5.0, 4.242640687119285, 4.47213595499958]"
      ]
     },
     "execution_count": 84,
     "metadata": {},
     "output_type": "execute_result"
    }
   ],
   "source": [
    "Cost_function(X,Solution)"
   ]
  },
  {
   "cell_type": "code",
   "execution_count": 88,
   "id": "cd6292bc",
   "metadata": {},
   "outputs": [
    {
     "data": {
      "text/plain": [
       "array([4, 2, 1, 3])"
      ]
     },
     "execution_count": 88,
     "metadata": {},
     "output_type": "execute_result"
    }
   ],
   "source": [
    "Solution"
   ]
  },
  {
   "cell_type": "code",
   "execution_count": 42,
   "id": "f6d99687",
   "metadata": {},
   "outputs": [
    {
     "data": {
      "text/plain": [
       "array([3, 1])"
      ]
     },
     "execution_count": 42,
     "metadata": {},
     "output_type": "execute_result"
    }
   ],
   "source": [
    "index=Solution[0:2]\n",
    "index"
   ]
  },
  {
   "cell_type": "code",
   "execution_count": 53,
   "id": "996bdb3a",
   "metadata": {},
   "outputs": [],
   "source": [
    "C=Dist[index[0]-1,index[1]-1]"
   ]
  },
  {
   "cell_type": "code",
   "execution_count": 54,
   "id": "070f7042",
   "metadata": {},
   "outputs": [],
   "source": [
    "Cost.append(C)"
   ]
  },
  {
   "cell_type": "code",
   "execution_count": 55,
   "id": "79305877",
   "metadata": {},
   "outputs": [
    {
     "data": {
      "text/plain": [
       "[4.47213595499958]"
      ]
     },
     "execution_count": 55,
     "metadata": {},
     "output_type": "execute_result"
    }
   ],
   "source": [
    "Cost"
   ]
  }
 ],
 "metadata": {
  "kernelspec": {
   "display_name": "Python 3 (ipykernel)",
   "language": "python",
   "name": "python3"
  },
  "language_info": {
   "codemirror_mode": {
    "name": "ipython",
    "version": 3
   },
   "file_extension": ".py",
   "mimetype": "text/x-python",
   "name": "python",
   "nbconvert_exporter": "python",
   "pygments_lexer": "ipython3",
   "version": "3.9.7"
  }
 },
 "nbformat": 4,
 "nbformat_minor": 5
}
